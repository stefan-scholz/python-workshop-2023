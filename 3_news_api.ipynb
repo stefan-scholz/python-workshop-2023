{
 "cells": [
  {
   "cell_type": "markdown",
   "id": "choice-prevention",
   "metadata": {
    "slideshow": {
     "slide_type": "slide"
    }
   },
   "source": [
    "# Python Workshop\n",
    "# Session 3: Using Application Programming Interfaces\n",
    "\n",
    "Stefan Scholz\n",
    "\n",
    "In this third session we will learn how to **stream data** from internet services. For this purpose we will discuss how **data** from the **internet** can be used generally, and attempt it on an exemplary internet service."
   ]
  },
  {
   "cell_type": "markdown",
   "id": "b45f278a",
   "metadata": {},
   "source": [
    "## 3.1 Data Streams\n",
    "\n",
    "In our context, a data stream is a sequence of information. While in a true data stream not all data is available at one point in time, in pseudo data streams the data is completely available but the data is usually so big that the hard drive or memory cannot cope with it. Depending on the type of data stream, it can contain various information, i.e. timestamps, attributes, raw data or processed data.\n",
    "\n",
    "These information are streamed in a very broad range of applications. Below are a few examples.\n",
    "\n",
    "| Application | Description |\n",
    "| -------- | ------- |\n",
    "| Fraud detection | detect patterns and anomalies in banking transactions with time, amount, location |\n",
    "| Click analytics | profile advertisment, social media, websites by user behavior |\n",
    "| News analytics | underpin trading strategy or business decision by automated text analysis on news |\n",
    "| High-frequency trading | make automated trading decision in milliseconds based on live stock prices |\n",
    "\n",
    "In order to get a data stream, most of the times either websites are used where the data comes straight from a data provider without being processed, or from APIs where the data is somehow modified, validated or cleaned by some data provider. What this exactly means and how we get access to these data streams, we will learn in today's session.\n"
   ]
  },
  {
   "cell_type": "markdown",
   "id": "dc17cd51",
   "metadata": {},
   "source": [
    "## 3.2 Iterators\n",
    "\n",
    "But before we come to data streams from the internet, we should first learn how data streams are defined in Python. In fact, to work with changing and large data streams, Python offers `Iterator`.\n",
    "\n",
    "In our first session, we got to know a similarly named construct called `Iterable`. However, a `Iterable` is a data structure, e.g. list, tuple, dictionary, whereas `Iterator` is more like a pointer which points on certain data. Technically, a `Iterator` is an object that can be iterated upon with the help of the methods `__iter__()` and `__next__()`. Actually most iterables have a build-in iterable to access them. But you can also create your own iterator object which implements the two methods above.\n",
    "\n",
    "The big advantage about iterators is that with large amounts of data not all data need to be stored at once. For example, if we want to access all numbers from $0$ to $10^{50}$, we could try to store all numbers in a list, which will be for sure super large, but will probably not even fit into your memory. Instead we could use an iterator that creates each number after the other, such that only one number has to be stored at a time. This is a typical example where iterators are very helpful.\n",
    "\n",
    "Let us create this iterator and return some numbers."
   ]
  },
  {
   "cell_type": "code",
   "execution_count": null,
   "id": "330e2553",
   "metadata": {
    "collapsed": false,
    "jupyter": {
     "outputs_hidden": false
    }
   },
   "outputs": [],
   "source": [
    "class Number:\n",
    "    \"\"\"\n",
    "    Class Number\n",
    "    \"\"\"\n",
    "\n",
    "    def __iter__(self):\n",
    "        self.next_number = 1\n",
    "        return self\n",
    "\n",
    "    def __next__(self):\n",
    "        current_number = self.next_number\n",
    "        self.next_number += 1\n",
    "        return current_number"
   ]
  },
  {
   "cell_type": "code",
   "execution_count": null,
   "id": "c54f47cb",
   "metadata": {
    "collapsed": false,
    "jupyter": {
     "outputs_hidden": false
    }
   },
   "outputs": [],
   "source": [
    "# iterate over numbers\n",
    "for number in Number():\n",
    "    # print next number\n",
    "    print(number)\n",
    "\n",
    "    # stop iteration\n",
    "    if number >= 3:\n",
    "        break"
   ]
  },
  {
   "cell_type": "code",
   "execution_count": null,
   "id": "a691502c",
   "metadata": {
    "collapsed": false,
    "jupyter": {
     "outputs_hidden": false
    }
   },
   "outputs": [],
   "source": [
    "# define iterator for numbers\n",
    "numbers = iter(Number())\n",
    "\n",
    "# print first number\n",
    "print(next(numbers))\n",
    "\n",
    "# print second number\n",
    "print(next(numbers))\n",
    "\n",
    "# print third number\n",
    "print(next(numbers))"
   ]
  },
  {
   "cell_type": "code",
   "execution_count": null,
   "id": "8ce2cf38",
   "metadata": {
    "collapsed": false,
    "jupyter": {
     "outputs_hidden": false
    }
   },
   "outputs": [],
   "source": []
  },
  {
   "cell_type": "markdown",
   "id": "5b3f398b",
   "metadata": {},
   "source": [
    "## 3.3 Exceptions\n",
    "\n",
    "Until now you have probably strumbled across several error messages when you wrote Python code. In general, these error messages are divided into two categories: First, there are syntax errors, which indicate that at some point in your code you used an invalid command, e.g. you forgot an indent or wrote a colon too much. The interpreter checks for these syntax errors before you code is actually executed. But we do not want to go into detail here. Instead, we want to discuss the second category of error messages. These error messages are problems which the interpreter encounters when it actually executes your code. These errors are also called exceptions. By default, they are fatal and stop your program immediately when the exception occurs.\n",
    "\n",
    "In the following is a list of common exceptions:\n",
    "\n",
    "| Exception | Cause |\n",
    "| -------- | ------- |\n",
    "| Attribute Error | Raised when attribute assignment or reference fails |\n",
    "| Import Error | Raised when the imported module is not found |\n",
    "| Index Error | Raised when index of a sequence is out of range |\n",
    "| KeyError | Raised when a key is not found in a dictionary |\n",
    "| Keyboard Interrupt | Raised when the user hits interrupt key(Ctrl + C or Delete) |\n",
    "| Memory Error | Raised when an operation runs out of memory |\n",
    "| Name Error | Raised when a variable is not found in local or global scope |\n",
    "| Syntax Error | Raised by parser when syntax error is encountered |\n",
    "| IndentationError | Raised when there is incorrect indentation |\n",
    "| Type Error | Raised when a function or operation is applied to an object of incorrect type |\n",
    "| Value Error | Raised when a function gets argument of correct type but improper value |\n",
    "| Zero Division Error | Raised when second operand of division or modulo operation is zero |"
   ]
  },
  {
   "cell_type": "markdown",
   "id": "fbf0c40b",
   "metadata": {},
   "source": [
    "If you are working with data streams, e.g. from websites and APIs, it is advisable that you take certain errors into account such that not the whole program aborts because of an unimportant detail in the data stream. Besides the data stream itself, there is an endless number of potential causes for errors.\n",
    "\n",
    "In these cases, we wrap our code with a `try` statement, and catch a possible exception with an `except` statement. You can also catch multiple exceptions at the same time by adding underneath more `except` statements. If you want to have the respective message of the exception available in the `exception` block give it a variable name, like in the `with` statement. If you use a `finally` statement at the end of your `try` statement, the clause inside the `finally` statement will be executed last, whether or not the `try` statement raised an exception.\n",
    "\n",
    "Let us catch some trivial exceptions."
   ]
  },
  {
   "cell_type": "code",
   "execution_count": null,
   "id": "e3f9b494",
   "metadata": {
    "collapsed": false,
    "jupyter": {
     "outputs_hidden": false
    }
   },
   "outputs": [],
   "source": [
    "# error prone code\n",
    "size = len(w)"
   ]
  },
  {
   "cell_type": "code",
   "execution_count": null,
   "id": "96590c42",
   "metadata": {
    "collapsed": false,
    "jupyter": {
     "outputs_hidden": false
    }
   },
   "outputs": [],
   "source": [
    "try:\n",
    "    # error prone code\n",
    "    size = len(x)\n",
    "except NameError as e:\n",
    "    # report name error\n",
    "    print(\"Got error: {}\".format(e))"
   ]
  },
  {
   "cell_type": "code",
   "execution_count": null,
   "id": "59b61ae6",
   "metadata": {
    "collapsed": false,
    "jupyter": {
     "outputs_hidden": false
    }
   },
   "outputs": [],
   "source": []
  },
  {
   "cell_type": "markdown",
   "id": "979a4b06",
   "metadata": {},
   "source": [
    "Please keep in mind, however, that you should not abuse `try` statements to make poor code run, but only to deal with unavoidable problems. This is also the reason why we have not introduced exception handling earlier on."
   ]
  },
  {
   "cell_type": "markdown",
   "id": "a3675f99",
   "metadata": {},
   "source": [
    "## 3.4 REST APIs\n",
    "\n",
    "For the purpose of communication between clients and servers, a wide range of application programming interfaces (APIs) has been developed. An API can appear in different forms, e.g. as web system, operating system or database system. However, in today's session we want to dicuss a specific type called REST APIs. REST is an acronym for REpresentational State Transfer Application Programming Interface. This form of interfaces defines a uniform and predefined set of stateless operations.\n",
    "\n",
    "In this context, stateless means that in every request all information is sent and no previous request is considered. This ensures that the interfaces are fast, reliable and fault tolerant.\n",
    "\n",
    "In particular, the client sends a request with a URL, with an endpoint, an access token and other parameters. You can imagine this as if you access a webpage. But an API is much more generic and abstract and allows for much more requests. The HTTP protocol is used to handle the requests listed below. We will also send requests using the package `requests`. This package is a very powerful package which does a lot of work for us in the background to send such requests. All we have to do is determine our request with a URL, header and parameters."
   ]
  },
  {
   "cell_type": "markdown",
   "id": "8a953179",
   "metadata": {},
   "source": [
    "In the following is a list of the most common HTTP methods used together with REST APIs.\n",
    "\n",
    "| Method | Description |\n",
    "| -------- | ------- |\n",
    "| GET | request data from the server |\n",
    "| POST | sends data to the server |\n",
    "| PUT | changes data on the server |\n",
    "| DELETE | deletes existing data on the server |"
   ]
  },
  {
   "cell_type": "markdown",
   "id": "a1095fb0",
   "metadata": {},
   "source": [
    "For us, when we want to stream data, the first method `GET` will be particularly important. These requests will be processed by the server and then the client will receive a response according to the corresponding request, usually as HTML, XML or JSON. This response will be processed by the package `requests` again, which we can use to access the underlying data.\n",
    "\n",
    "We will discuss the individual steps to work with a REST API in the following. Therefore, we will use as an example the [News API](https://newsapi.org/). This is a REST API that provides news headlines from 30,000 news sources worldwide. However, for copyright reasons, it does not provide the full texts of the articles but only the link to these articles. Basically, these steps can be implemented similarly for all REST APIs."
   ]
  },
  {
   "cell_type": "markdown",
   "id": "7910eadd",
   "metadata": {},
   "source": [
    "### Endpoints\n",
    "\n",
    "REST APIs have so-called endpoints against which requests can be made. But one REST API can have multiple endpoints which all provide different information. However, if you work with a single REST API, then all its endpoints have the same URL as base. In this case, for the different endpoints only the suffix behind the base URL changes. For example, [News API](https://newsapi.org/) has in total three endpoints which provide different kinds of information. A detailed description of these endpoints is available in the [documentation](https://newsapi.org/docs/endpoints).\n",
    "\n",
    "Below you find an overview of the different endpoints of [News API](https://newsapi.org/).\n",
    "\n",
    "| Endpoint | Description |\n",
    "| -------- | ------- |\n",
    "| https://newsapi.org/v2/top-headlines | breaking news headlines |\n",
    "| https://newsapi.org/v2/everything | recent news and blog articles |\n",
    "| https://newsapi.org/v2/sources | available news sources |"
   ]
  },
  {
   "cell_type": "markdown",
   "id": "252043b7",
   "metadata": {},
   "source": [
    "### Parameters\n",
    "\n",
    "Parameters are options you can pass with the endpoints which restrict what specific information you are interested in. Usually three different types of parameters are used. For all REST APIs, the documentation will tell you in specific which information you should pass in which parameter type.\n",
    "\n",
    "The following list shows the different parameter types.\n",
    "\n",
    "| Type | Description |\n",
    "| -------- | ------- |\n",
    "| Header | in request header, e.g. authorization |\n",
    "| Query string | in request string after endpoint and question mark `?`, e.g. keywords |\n",
    "| Request body | in request body usually as JSON, e.g. send data |\n",
    "\n",
    "We will later combine the various parameters with the package `requests`. This package will take care of the appropriate handling of the different types of parameters. We will come to this when we actually make a request. Before that we should have a look at the parameters of [News API](https://newsapi.org/). In specific, we will only look at one endpoint of it which provides recent news and blog articles. You can find a detailed description for all parameters and endpoints in the [documentation](https://newsapi.org/docs/endpoints/)."
   ]
  },
  {
   "cell_type": "markdown",
   "id": "2a6e0b27",
   "metadata": {},
   "source": [
    "Most REST APIs use an API key, also [News API](https://newsapi.org/). This API key should be passed in the headers of your requests. The following list shows the required parameters in the header for a request on the [News API](https://newsapi.org/).\n",
    "\n",
    "| Header | Description |\n",
    "| -------- | ------- |\n",
    "| X-Api-Key | authentication with API key |"
   ]
  },
  {
   "cell_type": "markdown",
   "id": "7f2d5d8d",
   "metadata": {},
   "source": [
    "While this authentification method in the header is very common and widely used, the query parameters differ significantly from API to API. This is also because they depend on what information is available in the API. You can find a detailed description of the query parameters for the endpoint `everything` in the [documentation](https://newsapi.org/docs/endpoints/everything). In the following list we see a few query parameters which can be used together with the endpoint `everything`.\n",
    "\n",
    "| Query string | Description |\n",
    "| -------- | ------- |\n",
    "| q | keywords or phrases to search for in the article title and body, e.g. `bitcoin` |\n",
    "| qInTitle | keywords or phrases to search for in the article title only, e.g. `bitcoin` |\n",
    "| sources | comma-seperated string of identifiers for the new sources or blogs you want headlines from (maximum 20), e.g. `the-new-york-times` |\n",
    "| from | date and optional time for the oldest article allowed, e.g. `2019-10-17` |\n",
    "| to | date and optional time for the newest article allowed, e.g. `2019-10-17` |\n",
    "| language |  2-letter ISO-639-1 code of the language you want to get headlines, e.g. `de`, `en`, `es`, `fr` |\n",
    "| sortBy | order to sort the articles in, e.g. `relevancy`, `publishedAt`  |"
   ]
  },
  {
   "cell_type": "markdown",
   "id": "5b38c196",
   "metadata": {},
   "source": [
    "When we have prepared all the parameters, we are ready to make a request to a REST API."
   ]
  },
  {
   "cell_type": "markdown",
   "id": "55a01004",
   "metadata": {},
   "source": [
    "### Requests\n",
    "\n",
    "There are several ways to send a request to a REST API, among others you can do it with the package `requests`. As mentioned above, this package allows you to make HTTP requests very easily and quickly. It provides all functions and methods to write your parameters into requests, send you requests and work with your responses.\n",
    "\n",
    "Let us first import the package or install it if necessary."
   ]
  },
  {
   "cell_type": "code",
   "execution_count": null,
   "id": "df16bd4d",
   "metadata": {
    "collapsed": false,
    "jupyter": {
     "outputs_hidden": false
    }
   },
   "outputs": [],
   "source": [
    "import requests"
   ]
  },
  {
   "cell_type": "markdown",
   "id": "bfb09610",
   "metadata": {},
   "source": [
    "In our example with the [News API](https://newsapi.org/) we are interested in getting recent news articles. The best way to understand requests is to prepare an exemplary request on some news articles.\n",
    "\n",
    "Let us first define the URL with the endpoint in the variable `url`, then the headers in the variable `header` and the query strings in the variable `parameters`. Then we pass these variables into the function `requests.get()` to make the corresponding request. This request is best wrapped inside a `try` statement, e.g. to handle an HTTP error `requests.exceptions.HTTPError`. An exception will also be raised by the method `raise_for_status()` when the response contains an invalid status."
   ]
  },
  {
   "cell_type": "code",
   "execution_count": null,
   "id": "f92d12b0",
   "metadata": {
    "collapsed": false,
    "jupyter": {
     "outputs_hidden": false
    }
   },
   "outputs": [],
   "source": [
    "# define token\n",
    "token = \"YOUR_API_KEY\"\n",
    "\n",
    "# define entrypoint\n",
    "url = \"https://newsapi.org/v2/everything\"\n",
    "\n",
    "# define header\n",
    "header = {\"X-Api-Key\": token}\n",
    "\n",
    "# define query strings\n",
    "parameters = {\"qInTitle\": \"hamas\", \"language\": \"en\"}\n",
    "\n",
    "try:\n",
    "    # make request\n",
    "    response = requests.get(url, params=parameters, headers=header)\n",
    "    # check response\n",
    "    response.raise_for_status()\n",
    "except requests.exceptions.HTTPError as e:\n",
    "    print(\"HTTPError: {}\".format(e))\n",
    "except Exception as e:\n",
    "    print(\"Error: {}\".format(e))"
   ]
  },
  {
   "cell_type": "markdown",
   "id": "57e55a3a",
   "metadata": {},
   "source": [
    "If the request works and throws no error, you can have a first look into the response with the attribute `content`."
   ]
  },
  {
   "cell_type": "code",
   "execution_count": null,
   "id": "49a74e34",
   "metadata": {
    "collapsed": false,
    "jupyter": {
     "outputs_hidden": false
    }
   },
   "outputs": [],
   "source": [
    "# inspect response\n",
    "print(response.json())"
   ]
  },
  {
   "cell_type": "code",
   "execution_count": null,
   "id": "d1a77c6e",
   "metadata": {
    "collapsed": false,
    "jupyter": {
     "outputs_hidden": false
    }
   },
   "outputs": [],
   "source": []
  },
  {
   "cell_type": "markdown",
   "id": "5693b400",
   "metadata": {},
   "source": [
    "<div class=\"alert alert-block alert-info\">\n",
    "    <b>Exercise</b>: Sign up for <a href=\"https://newsapi.org/register\">NewsAPI</a>.\n",
    "</div>"
   ]
  },
  {
   "cell_type": "code",
   "execution_count": null,
   "id": "22cb6323",
   "metadata": {
    "collapsed": false,
    "jupyter": {
     "outputs_hidden": false
    }
   },
   "outputs": [],
   "source": []
  },
  {
   "cell_type": "code",
   "execution_count": null,
   "id": "fb238ced-407c-4991-b199-e20180e73a88",
   "metadata": {},
   "outputs": [],
   "source": []
  },
  {
   "cell_type": "markdown",
   "id": "cb353e17",
   "metadata": {},
   "source": [
    "<div class=\"alert alert-block alert-info\">\n",
    "    <b>Exercise</b>: Request English articles from the BBC on Hamas from the <a href=\"https://newsapi.org/\">News API</a>.\n",
    "</div>"
   ]
  },
  {
   "cell_type": "code",
   "execution_count": null,
   "id": "a56ed5e1",
   "metadata": {
    "collapsed": false,
    "jupyter": {
     "outputs_hidden": false
    }
   },
   "outputs": [],
   "source": []
  },
  {
   "cell_type": "code",
   "execution_count": null,
   "id": "a990d124",
   "metadata": {
    "collapsed": false,
    "jupyter": {
     "outputs_hidden": false
    }
   },
   "outputs": [],
   "source": []
  },
  {
   "cell_type": "markdown",
   "id": "f9cebf54",
   "metadata": {},
   "source": [
    "<div class=\"alert alert-block alert-info\">\n",
    "    <b>Exercise</b>: Inspect the response. Collect the titles and urls of the articles as lists.\n",
    "</div>"
   ]
  },
  {
   "cell_type": "code",
   "execution_count": null,
   "id": "fb7aa864",
   "metadata": {
    "collapsed": false,
    "jupyter": {
     "outputs_hidden": false
    }
   },
   "outputs": [],
   "source": []
  },
  {
   "cell_type": "code",
   "execution_count": null,
   "id": "17a80be5",
   "metadata": {
    "collapsed": false,
    "jupyter": {
     "outputs_hidden": false
    }
   },
   "outputs": [],
   "source": []
  },
  {
   "cell_type": "markdown",
   "id": "90caae37",
   "metadata": {},
   "source": [
    "### Module\n",
    "\n",
    "For the News API there is a readily available Python module. The functions and methods for this module should mirror the endpoints specified by the News API documentation. After installation, import the client class into your project.\n",
    "\n",
    "This module makes it much easier to get the news articles from News API, rather than manually writing the requests manually. But unfortunately not every API has its own Python module. In these cases we still need to make the requests.\n",
    "\n",
    "Let us import the module."
   ]
  },
  {
   "cell_type": "code",
   "execution_count": null,
   "id": "c49b392c",
   "metadata": {
    "collapsed": false,
    "jupyter": {
     "outputs_hidden": false
    }
   },
   "outputs": [],
   "source": [
    "from newsapi import NewsApiClient"
   ]
  },
  {
   "cell_type": "markdown",
   "id": "0e4d4bdc",
   "metadata": {},
   "source": [
    "The client which takes care of the communication with the API can be initialized with the API key (same key as you used before).\n",
    "\n",
    "Let us create a client."
   ]
  },
  {
   "cell_type": "code",
   "execution_count": null,
   "id": "9c980c12",
   "metadata": {
    "collapsed": false,
    "jupyter": {
     "outputs_hidden": false
    }
   },
   "outputs": [],
   "source": [
    "client = NewsApiClient(api_key=\"YOUR_API_KEY\")"
   ]
  },
  {
   "cell_type": "code",
   "execution_count": null,
   "id": "8a590051",
   "metadata": {
    "collapsed": false,
    "jupyter": {
     "outputs_hidden": false
    }
   },
   "outputs": [],
   "source": []
  },
  {
   "cell_type": "markdown",
   "id": "569f43c7",
   "metadata": {},
   "source": [
    "By calling on the client the method `get_everything()` we can make a request to the endpoint `everything` of the News API.\n",
    "\n",
    "Let us make the same request as before."
   ]
  },
  {
   "cell_type": "code",
   "execution_count": null,
   "id": "952aa5ec",
   "metadata": {
    "collapsed": false,
    "jupyter": {
     "outputs_hidden": false
    }
   },
   "outputs": [],
   "source": [
    "# make request and save response\n",
    "response = client.get_everything(q=\"hamas\", language=\"en\", sources=\"bbc-news\")\n",
    "\n",
    "# show response\n",
    "print(response)"
   ]
  },
  {
   "cell_type": "code",
   "execution_count": null,
   "id": "9ec14421",
   "metadata": {
    "collapsed": false,
    "jupyter": {
     "outputs_hidden": false
    }
   },
   "outputs": [],
   "source": []
  },
  {
   "cell_type": "markdown",
   "id": "9083c119",
   "metadata": {},
   "source": [
    "Let us save the response in a JSON file to use it later on."
   ]
  },
  {
   "cell_type": "code",
   "execution_count": null,
   "id": "7ab5775d",
   "metadata": {
    "collapsed": false,
    "jupyter": {
     "outputs_hidden": false
    }
   },
   "outputs": [],
   "source": [
    "import json"
   ]
  },
  {
   "cell_type": "code",
   "execution_count": null,
   "id": "9ca4db66",
   "metadata": {
    "collapsed": false,
    "jupyter": {
     "outputs_hidden": false
    }
   },
   "outputs": [],
   "source": [
    "with open(\"data/articles.json\", \"w\") as file:\n",
    "    json.dump(response, file)"
   ]
  },
  {
   "cell_type": "code",
   "execution_count": null,
   "id": "c64f43ff",
   "metadata": {
    "collapsed": false,
    "jupyter": {
     "outputs_hidden": false
    }
   },
   "outputs": [],
   "source": []
  }
 ],
 "metadata": {
  "celltoolbar": "Slideshow",
  "kernelspec": {
   "display_name": "Python 3 (ipykernel)",
   "language": "python",
   "name": "python3"
  },
  "language_info": {
   "codemirror_mode": {
    "name": "ipython",
    "version": 3
   },
   "file_extension": ".py",
   "mimetype": "text/x-python",
   "name": "python",
   "nbconvert_exporter": "python",
   "pygments_lexer": "ipython3",
   "version": "3.11.5"
  }
 },
 "nbformat": 4,
 "nbformat_minor": 5
}
