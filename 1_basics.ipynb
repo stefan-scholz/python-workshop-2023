{
 "cells": [
  {
   "cell_type": "markdown",
   "id": "closed-pakistan",
   "metadata": {
    "slideshow": {
     "slide_type": "slide"
    }
   },
   "source": [
    "# Python Workshop\n",
    "# Session 1: Python Basics and Programming Fundamentals\n",
    "\n",
    "Stefan Scholz\n",
    "\n",
    "In this first session we will learn how to use **Jupyter Notebooks** and other alternatives how to execute Python code. Furthermore, by doing so we will see how basic **functions** are executed, information is stored in **variables** and code is structured with **conditional** and **control flow statements**. We will also see how to use **object-oriented programming** with **classes** and **modules**."
   ]
  },
  {
   "cell_type": "markdown",
   "id": "008f715e",
   "metadata": {},
   "source": [
    "## 1.1 Python\n",
    "\n",
    "Python is a programming language that enjoys great popularity because of various advantages. Some advantages are:\n",
    "\n",
    "- Fast to Learn\n",
    "- Easy to Write\n",
    "- Flexible\n",
    "- Extensive Library Support\n",
    "- Hidden Low-Level Aspects of Computer Architecture\n",
    "\n",
    "This makes Python an ideal basis for beginners like us to start programming because of its simplicity. But beyond that it is also used by experts worldwide, e.g. in machine learning and software development, because of its extensive libraries.\n",
    "\n",
    "\n",
    "### Installation\n",
    "\n",
    "- Installed from [python.org](https://docs.python.org/3/using/index.html)\n",
    "- On Linux: already installed or installable as package of the Linux Distribution (Debian, Ubuntu, Red Hat, SuSE, etc.)\n",
    "- Otherwise: it's recommended to rely on a distribution which bundles the Python interpreter with common Python modules and tools - esp. [Anaconda](https://docs.anaconda.com/anaconda/), a distribution of Python and R for scientific computing"
   ]
  },
  {
   "cell_type": "markdown",
   "id": "ff9d43b3",
   "metadata": {},
   "source": [
    "## 1.2 Development Environments\n",
    "\n",
    "### Jupyter Lab\n",
    "\n",
    "Jupyter Lab is a very useful interface for Python. Inside Jupyer Lab you can work with Jupyter Notebooks, exactly one like you are looking into right now. These notebooks are one of the possibilities how to write and execute Python code. The major advantage over others is that code can be written very interactively, because the entire code can be divided into smaller snippets, and these snippets are directly next to their output.\n",
    "\n",
    "A Jupyter notebook consists of separate text cells and code cells. A cell can be executed either by clicking on the play button in the tool bar on top or by pressing __shift + enter__.\n",
    "\n",
    "If you make a mistake you can always edit the content of a cell and execute it again to update it. You can insert additional cells by clicking on the plus button in the tool bar on top.\n",
    "\n",
    "\n",
    "### Editors\n",
    "\n",
    "A good editor or an [integrated development environment (IDE)](https://en.wikipedia.org/wiki/Integrated_development_environment) will speed up coding by providing autocompletion, syntax highlighting and syntax checking. If your code gets bigger, an IDE supports the development by automated builds and deployments of the code, a runtime for tests and a visual debugger to locate errors (\"bugs\") in your code.\n",
    "\n",
    "Unfortunately, there are many good IDEs available for Python, to list just a few:\n",
    "\n",
    "- [PyDev](https://www.pydev.org/)\n",
    "- [Visual Studio Code](https://code.visualstudio.com/docs/languages/python)\n",
    "- [PyCharm](https://www.jetbrains.com/pycharm/) (commercial)\n",
    "\n",
    "\n",
    "### Virtual Environments\n",
    "\n",
    "Why you need encapsulated environments to run applications or projects? The documentation of the [Python virtual environments](https://docs.python.org/3/tutorial/venv.html) explains...\n",
    "\n",
    "> Python applications will often use packages and modules that don’t come as part of the standard library. Applications will sometimes need a specific version of a library, because the application may require that a particular bug has been fixed or the application may be written using an obsolete version of the library’s interface.\n",
    ">\n",
    "> This means it may not be possible for one Python installation to meet the requirements of every application. If application A needs version 1.0 of a particular module but application B needs version 2.0, then the requirements are in conflict and installing either version 1.0 or 2.0 will leave one application unable to run.\n",
    "\n",
    "1. create a virtual environment in current director in the subfolder `.env/`\n",
    "   ```\n",
    "   python3 -m venv .env\n",
    "   ```\n",
    "2. activate the environment\n",
    "   ```\n",
    "   source .env/bin/activate\n",
    "   ```\n",
    "3. install packages (placed below `./.env/`)\n",
    "   ```\n",
    "   pip install ...\n",
    "   ```\n",
    "4. run Python...\n",
    "5. deactivate the environment\n",
    "   ```\n",
    "   deactivate\n",
    "   ```\n",
    "\n",
    "If more than Python modules are project-specific: [Docker](https://docs.docker.com/get-started/) allows to bundle a Python interpreter (eg. an older version), specific modules and additional software, pack it as runtime image and run it in a \"container\" without the need to install anything on the host system.\n",
    "\n",
    "\n",
    "### Google Colaboratory\n",
    "\n",
    "[Google Colaboratory](https://colab.research.google.com/) or \"Colab\" is a Jupyter notebook environment running in the Google cloud. The notebooks are stored on Google Drive. Basic usage is free but requires a Google user account. The paid \"Colab Pro\" allows to use more hardware resources (RAM, CPU, GPU, TPU) and to run the notebooks without being connected to a web browser.\n",
    "\n",
    "Colab supports [loading notebooks on Github](https://colab.research.google.com/github/googlecolab/colabtools/blob/main/notebooks/colab-github-demo.ipynb). To load one of the workshop notebooks, please navigate to https://colab.research.google.com/github/stefan-scholz/python-workshop-2023/blob/main/.\n",
    "\n",
    "Running a notebook in the cloud requires that analyzed data is uploaded to the cloud or is available online. This might be a hurdle if the data is private or sensitive. In order to load the workshop data from Github into the workspace of a Colab notebook, simply add a cell to the beginning of a notebook with the following two instructions:\n",
    "\n",
    "```\n",
    "!git clone https://github.com/stefan-scholz/python-workshop-2023.git\n",
    "%cd /content/python-workshop-2023/\n",
    "```"
   ]
  },
  {
   "cell_type": "markdown",
   "id": "06049914",
   "metadata": {},
   "source": [
    "<div class=\"alert alert-block alert-info\">\n",
    "    <b>Discussion</b>: Which Python environment are you planning on using?\n",
    "</div>"
   ]
  },
  {
   "cell_type": "code",
   "execution_count": null,
   "id": "a3861190",
   "metadata": {
    "collapsed": false,
    "jupyter": {
     "outputs_hidden": false
    }
   },
   "outputs": [],
   "source": []
  },
  {
   "cell_type": "markdown",
   "id": "c1f4f0d6",
   "metadata": {},
   "source": [
    "## 1.3 Calculations\n",
    "\n",
    "As you will see, you can use Python like a simple calculator. You can use the arithmetic operators `+`, `-`, `*`, `/`  and parentheses `()` just like you would expect for a normal calculator. The Python symbol to calculate powers is `**`.\n",
    "\n",
    "Let us give it a try: What is the result of $\\sqrt{5-3}$?"
   ]
  },
  {
   "cell_type": "code",
   "execution_count": null,
   "id": "7fd7acb9",
   "metadata": {
    "collapsed": false,
    "jupyter": {
     "outputs_hidden": false
    },
    "tags": []
   },
   "outputs": [],
   "source": [
    "(5-3)**(1/2)"
   ]
  },
  {
   "cell_type": "code",
   "execution_count": null,
   "id": "98853c50",
   "metadata": {
    "collapsed": false,
    "jupyter": {
     "outputs_hidden": false
    }
   },
   "outputs": [],
   "source": []
  },
  {
   "cell_type": "markdown",
   "id": "a852e997",
   "metadata": {},
   "source": [
    "## 1.4 Built-In Functions\n",
    "\n",
    "A convenient way to get things done in Python is to use functions. Functions are indicated by round brackets which are appended directly after the name of the function. Inside the brackets the input is handed over to the function.\n",
    "\n",
    "We have seen above that after our simple calculation the result is automatically shown, but in pratice it is better if the output is explicitly called by a function. This is done with the function `print()`, which prompts all inputs on the screen.\n",
    "\n",
    "As we can see, the following code gives us the same result, but we make clear that we want to get the result prompted."
   ]
  },
  {
   "cell_type": "code",
   "execution_count": null,
   "id": "6eacb488",
   "metadata": {
    "collapsed": false,
    "jupyter": {
     "outputs_hidden": false
    }
   },
   "outputs": [],
   "source": [
    "# print result\n",
    "print((5-3)**(1/2))"
   ]
  },
  {
   "cell_type": "markdown",
   "id": "839c626d",
   "metadata": {},
   "source": [
    "However, the function `print()` can do much more that just prompt simple inputs. It allows you to combine multiple inputs, either as list of inputs or as a formatted string."
   ]
  },
  {
   "cell_type": "code",
   "execution_count": null,
   "id": "a304fa46",
   "metadata": {
    "collapsed": false,
    "jupyter": {
     "outputs_hidden": false
    }
   },
   "outputs": [],
   "source": [
    "# print as list of inputs\n",
    "print(\"The result is:\", (5-3)**(1/2))"
   ]
  },
  {
   "cell_type": "code",
   "execution_count": null,
   "id": "4eb1444b",
   "metadata": {
    "collapsed": false,
    "jupyter": {
     "outputs_hidden": false
    }
   },
   "outputs": [],
   "source": [
    "# print as formatted string\n",
    "print(\"The result is: {}\".format((5-3)**(1/2)))"
   ]
  },
  {
   "cell_type": "markdown",
   "id": "35c14482",
   "metadata": {},
   "source": [
    "What else you can do with the function `print()`, you can find out with another function: The function `help()` gives you the purpose of a function, its input parameters and descriptions.\n",
    "\n",
    "The help for the function `print()` looks as follows, where value are the input arguments we have given into the function so far."
   ]
  },
  {
   "cell_type": "code",
   "execution_count": null,
   "id": "39b52292",
   "metadata": {
    "collapsed": false,
    "jupyter": {
     "outputs_hidden": false
    }
   },
   "outputs": [],
   "source": [
    "help(print)"
   ]
  },
  {
   "cell_type": "markdown",
   "id": "a5dacc35",
   "metadata": {},
   "source": [
    "If you do not know a certain function, or if you are uncertain, then please use the function `help()` or check it on the internet.\n",
    "\n",
    "To name a few more functions besides `print()` and `help()`, these are also popular functions:\n",
    "\n",
    "| Function | Purpose |\n",
    "| -------- | ------- |\n",
    "| `abs()` | absolute value of the argument |\n",
    "| `dir()` | list of arguments and methods |\n",
    "| `len()` | number of items in a container |\n",
    "| `max()` | with a single iterable argument, return its biggest item |\n",
    "| `min()` | With a single iterable argument, return its smallest item |\n",
    "| `open()` | open file and return a stream |\n",
    "| `range()` | produces a sequence of integers from start (inclusive) to stop (exclusive) by step |\n",
    "| `round()` | round a number to a given precision in decimal digits (default 0 digits) |\n",
    "| `sorted()` | new list containing all items from the iterable in ascending order |\n",
    "| `sum()` | sum of iterable of numbers|\n",
    "| `type()` | objects type |\n",
    "| `zip()` | tuple where the i-th element comes from the i-th iterable argument |\n",
    "\n",
    "For a complete list of functions which are always available in the Python interpreter, please have a look at the [Python documentation](https://docs.python.org/3/library/functions.html)."
   ]
  },
  {
   "cell_type": "code",
   "execution_count": null,
   "id": "0a08131d",
   "metadata": {
    "collapsed": false,
    "jupyter": {
     "outputs_hidden": false
    }
   },
   "outputs": [],
   "source": []
  },
  {
   "cell_type": "markdown",
   "id": "a70393a2",
   "metadata": {},
   "source": [
    "## 1.5 Variables\n",
    "\n",
    "For more complex calculations it is convenient to store numbers as variables. As a variable name, any combination of letters, numbers, and underscores which is not starting with a number can be used in principle. For readability purposes, it is recommended to use lowercase words separated by underscores as variable names. The equals sign `=` is used to assign a value to a variable.\n",
    "\n",
    "Let us try it with variables again: What is the result of $\\sqrt{5-3}$?"
   ]
  },
  {
   "cell_type": "code",
   "execution_count": null,
   "id": "44203def",
   "metadata": {
    "collapsed": false,
    "jupyter": {
     "outputs_hidden": false
    }
   },
   "outputs": [],
   "source": [
    "# define variables\n",
    "base = 5 - 3\n",
    "exponent = 1 / 2\n",
    "\n",
    "# calculate result\n",
    "result = base ** exponent\n",
    "\n",
    "# print result\n",
    "print(result)"
   ]
  },
  {
   "cell_type": "markdown",
   "id": "934fe036",
   "metadata": {},
   "source": [
    "Note, that the `=` in code is similar to the equal sign `=` in math, but it is not quite the same. Python always evaluates code on the right of the equal sign and assigns it to the variable on the left.\n",
    "\n",
    "So while the first snippet works, the second one does not:"
   ]
  },
  {
   "cell_type": "code",
   "execution_count": null,
   "id": "71327aa3",
   "metadata": {
    "collapsed": false,
    "jupyter": {
     "outputs_hidden": false
    }
   },
   "outputs": [],
   "source": [
    "# define variable correctly\n",
    "base = 5 - 3"
   ]
  },
  {
   "cell_type": "code",
   "execution_count": null,
   "id": "40e3c268",
   "metadata": {
    "collapsed": false,
    "jupyter": {
     "outputs_hidden": false
    }
   },
   "outputs": [],
   "source": [
    "# define variable incorrectly\n",
    "5 - 3 = base"
   ]
  },
  {
   "cell_type": "markdown",
   "id": "0f7e038e",
   "metadata": {},
   "source": [
    "However, variables can also be used on the right side. Note, that the right side is evaluated first and then assigned to the variable."
   ]
  },
  {
   "cell_type": "code",
   "execution_count": null,
   "id": "0662c24b",
   "metadata": {
    "collapsed": false,
    "jupyter": {
     "outputs_hidden": false
    }
   },
   "outputs": [],
   "source": [
    "# define base with right side variable\n",
    "base = 5\n",
    "base = base - 3\n",
    "\n",
    "# print base\n",
    "print(base)"
   ]
  },
  {
   "cell_type": "markdown",
   "id": "36101134",
   "metadata": {},
   "source": [
    "Here, we took the value of `base`, subtracted 3 from it and then assigned the result back to the same variable name `base`. As a shortcut for such an operation we can use the operator for subtraction assignment `-=`."
   ]
  },
  {
   "cell_type": "code",
   "execution_count": null,
   "id": "deb6ee68",
   "metadata": {
    "collapsed": false,
    "jupyter": {
     "outputs_hidden": false
    }
   },
   "outputs": [],
   "source": [
    "# define base with subtraction assignment\n",
    "base = 5\n",
    "base -= 3\n",
    "\n",
    "# print base\n",
    "print(base)"
   ]
  },
  {
   "cell_type": "markdown",
   "id": "82cf6dc2",
   "metadata": {},
   "source": [
    "This shortcut works for all common operators with so-called assignment operators:\n",
    "\n",
    "| Operator | Description |\n",
    "| -------- | ------- |\n",
    "| `+=` | adds right side to left variable and assigns the result to left variable |\n",
    "| `-=` | subtracts right side from left variable and assigns the result to left variable |\n",
    "| `*=` | multiplies right side to left variable and assigns the result to left variable |\n",
    "| `/=` | divides right side from left variable and assigns the result to left variable |"
   ]
  },
  {
   "cell_type": "markdown",
   "id": "48bd54a4",
   "metadata": {},
   "source": [
    "As we said earlier, always make sure that your variable names do not start with a number, are written in lowercase words, seperated by underscores and clearly identify your variable. Pay attentation to their upper and lower case letters as well, because variables names are case sensitive in general. Also make sure that none of your variable names conincides with a set of keywords which are reserved and have a specific meaning.\n",
    "\n",
    "The following set of keywords cannot be used in Python as variable names:"
   ]
  },
  {
   "cell_type": "code",
   "execution_count": null,
   "id": "f24ff386",
   "metadata": {
    "collapsed": false,
    "jupyter": {
     "outputs_hidden": false
    },
    "tags": []
   },
   "outputs": [],
   "source": [
    "import keyword\n",
    "\n",
    "# print keywords occupied by interpreter\n",
    "print(keyword.kwlist)"
   ]
  },
  {
   "cell_type": "markdown",
   "id": "7e2ec819",
   "metadata": {},
   "source": [
    "<div class=\"alert alert-block alert-info\">\n",
    "    <b>Exercise</b>: Compute numerically the sum and average of all integers from 0 to 1,000. Use variables for all intermediate results. Print your results.\n",
    "</div>"
   ]
  },
  {
   "cell_type": "code",
   "execution_count": null,
   "id": "267c2ee8",
   "metadata": {
    "collapsed": false,
    "jupyter": {
     "outputs_hidden": false
    }
   },
   "outputs": [],
   "source": []
  },
  {
   "cell_type": "code",
   "execution_count": null,
   "id": "b8a5446d",
   "metadata": {
    "collapsed": false,
    "jupyter": {
     "outputs_hidden": false
    }
   },
   "outputs": [],
   "source": []
  },
  {
   "cell_type": "markdown",
   "id": "e457c26c",
   "metadata": {},
   "source": [
    "## 1.6 Data Types\n",
    "\n",
    "In Python, every variable value has a certain data type. Actually every data type is a class and every value is an instance of any of these classes. When we declare a variable, we do not need to explicitly mention the data type. This feature is famously known as dynamic typing.\n",
    "\n",
    "We will discuss the standard data types in Python step by step. But first let us get an overview of them all:\n",
    "\n",
    "| Data Type | Description |\n",
    "| -------- | ------- |\n",
    "| `Integer` | integer number |\n",
    "| `Float` | floating point number |\n",
    "| `Boolean` | truth value (either true or false) |\n",
    "| `String` | text |\n",
    "| `Array` | mutable sequence of values with same type |\n",
    "| `Tuple` | immutable sequence of values of any types |\n",
    "| `List` | mutable sequence of values of any types |\n",
    "| `Dictionary` | associative mapping with keys and values |\n",
    "| `Set` | unordered set of distinct values |"
   ]
  },
  {
   "cell_type": "markdown",
   "id": "d584df23",
   "metadata": {},
   "source": [
    "### Integer and Float\n",
    "\n",
    "Ideally we start with the numerical types because we have already got to know them.\n",
    "\n",
    "The first is `Integer` and can hold whole numbers, positive or negative. `Integer` cannot hold decimals. In order use decimals, a `Float` must be used. `Float` can also hold positive and negative numbers.\n",
    "\n",
    "Let us try this with an example. To verify the type of any object, we use the function `type()`."
   ]
  },
  {
   "cell_type": "code",
   "execution_count": null,
   "id": "ee91c6a6",
   "metadata": {
    "collapsed": false,
    "jupyter": {
     "outputs_hidden": false
    },
    "tags": []
   },
   "outputs": [],
   "source": [
    "# define integer number\n",
    "base = 5\n",
    "\n",
    "# check type of integer number\n",
    "print(type(base))"
   ]
  },
  {
   "cell_type": "code",
   "execution_count": null,
   "id": "193f5949",
   "metadata": {
    "collapsed": false,
    "jupyter": {
     "outputs_hidden": false
    }
   },
   "outputs": [],
   "source": [
    "# define decimal number\n",
    "result = 1.4142\n",
    "\n",
    "# check type of decimal number\n",
    "print(type(result))"
   ]
  },
  {
   "cell_type": "markdown",
   "id": "f2d5643e",
   "metadata": {},
   "source": [
    "### Boolean\n",
    "\n",
    "The next data type is of great importance in programming, as we will see with the conditional and control flow statements today. `Boolean` can hold truth values, which are either `True` or `False`. In comparison to the numerical context they behave like `1` and `0`.\n",
    "\n",
    "Let us initialize our first boolean. To verify the type of any object, we use the function `type()`."
   ]
  },
  {
   "cell_type": "code",
   "execution_count": null,
   "id": "e8511cfc",
   "metadata": {
    "collapsed": false,
    "jupyter": {
     "outputs_hidden": false
    }
   },
   "outputs": [],
   "source": [
    "# initialize boolean\n",
    "difficult = False\n",
    "\n",
    "# check type of boolean\n",
    "print(type(difficult))"
   ]
  },
  {
   "cell_type": "code",
   "execution_count": null,
   "id": "4125af01",
   "metadata": {
    "collapsed": false,
    "jupyter": {
     "outputs_hidden": false
    }
   },
   "outputs": [],
   "source": [
    "# initialize boolean\n",
    "understood = True\n",
    "\n",
    "# check type of boolean\n",
    "print(type(understood))"
   ]
  },
  {
   "cell_type": "markdown",
   "id": "defa9002",
   "metadata": {},
   "source": [
    "### String\n",
    "\n",
    "We have already seen the next data type too, as we printed text with the function `print()`. In general, text can be held in `String`, with the text surrounded either by single quotation marks or double quotation marks. Accordingly `\"Hello world\"` is the same as `'Hello world'`. To write a `String` over multiple lines, you can use three quotation marks.\n",
    "\n",
    "Let us write some first texts. To prompt the texts, we use the function `print()`. To verify the type of any object, we use the function `type()`."
   ]
  },
  {
   "cell_type": "code",
   "execution_count": null,
   "id": "eea70ec4",
   "metadata": {
    "collapsed": false,
    "jupyter": {
     "outputs_hidden": false
    }
   },
   "outputs": [],
   "source": [
    "# initialize string\n",
    "sentence = \"I love Python!\"\n",
    "\n",
    "# check type of string\n",
    "print(type(sentence))"
   ]
  },
  {
   "cell_type": "code",
   "execution_count": null,
   "id": "95caf363",
   "metadata": {
    "collapsed": false,
    "jupyter": {
     "outputs_hidden": false
    }
   },
   "outputs": [],
   "source": []
  },
  {
   "cell_type": "markdown",
   "id": "0c43069c",
   "metadata": {},
   "source": [
    "### Array\n",
    "\n",
    "In addition to the primitive data types that we have dealt with so far, there are also data types which are rather a collection of these. Traditionally, the `Array` is the first non-primitive data type that is dealt with. In general, `Array` in Python are a compact way of collecting basic data types, all the entries in an `Array` must be of the same data type. However, `Array` is not popularly used in Python and not a build in data type, unlike in other programming languages. To work with them you would need to `import` additional libraries.\n",
    "\n",
    "In general, when people talk of an `Array` in Python, they are actually referring to `List`. However, when we will work with the `numpy` library, you will see that there are fundamental differences between them. But at this point, we will first discuss what a `List` is."
   ]
  },
  {
   "cell_type": "code",
   "execution_count": null,
   "id": "76f1993e",
   "metadata": {
    "collapsed": false,
    "jupyter": {
     "outputs_hidden": false
    }
   },
   "outputs": [],
   "source": []
  },
  {
   "cell_type": "markdown",
   "id": "c64d37ab",
   "metadata": {},
   "source": [
    "### Tuple\n",
    "\n",
    "But before we actually get to `List`, we will discuss another data type that exists in Python. `Tuple` is another standard sequence data type. The main difference between `Tuple` and `List` is that `Tuple` is immutable, which means once defined you cannot delete, add or edit any values inside it. Due to this property, `Tuple` is mainly suitable for collections which are fixed and will not change.\n",
    "\n",
    "`Tuple` is typed with round brackets, `(` and `)`, and its elements are separated by a comma `,`. To access certain values inside your `Tuple`, you can use their indexes.\n",
    "\n",
    "Let us create our first `Tuple`. To verify the type of any object, we use the function `type()`."
   ]
  },
  {
   "cell_type": "code",
   "execution_count": null,
   "id": "6eb51d31",
   "metadata": {
    "collapsed": false,
    "jupyter": {
     "outputs_hidden": false
    }
   },
   "outputs": [],
   "source": [
    "# define tuple\n",
    "points = (0, 1, 2, 3, 4, 5, 6, 7, 8, 9, 10)\n",
    "\n",
    "# check type of tuple\n",
    "print(type(points))"
   ]
  },
  {
   "cell_type": "code",
   "execution_count": null,
   "id": "4d99da3f",
   "metadata": {
    "collapsed": false,
    "jupyter": {
     "outputs_hidden": false
    }
   },
   "outputs": [],
   "source": []
  },
  {
   "cell_type": "markdown",
   "id": "517fb918",
   "metadata": {},
   "source": [
    "### List\n",
    "\n",
    "A `List` is a data structure that contains multiple values in an ordered sequence. These are mutable, which means that you can change their content without changing their identity. You can recognize a `List` by its square brackets `[` and `]` that hold elements, separated by a comma `,`. `List` is built into Python: you do not need to invoke them separately.\n",
    "\n",
    "Let us create our first list. To verify the type of any object, we use the function `type()`."
   ]
  },
  {
   "cell_type": "code",
   "execution_count": null,
   "id": "b81dc248",
   "metadata": {
    "collapsed": false,
    "jupyter": {
     "outputs_hidden": false
    }
   },
   "outputs": [],
   "source": [
    "# define list of decimal numbers\n",
    "points = [0, 1, 2, 3, 4, 5, 6, 7, 8, 9, 10]\n",
    "\n",
    "# check type of list with decimal numbers\n",
    "print(type(points))"
   ]
  },
  {
   "cell_type": "code",
   "execution_count": null,
   "id": "ce1cba13",
   "metadata": {
    "collapsed": false,
    "jupyter": {
     "outputs_hidden": false
    }
   },
   "outputs": [],
   "source": []
  },
  {
   "cell_type": "markdown",
   "id": "220ad9b0",
   "metadata": {},
   "source": [
    "### Dictionary\n",
    "\n",
    "Like a `List`, a `Dictionary` is a collection of many values. Unlike `List`, which is indexed by a range of numbers, `Dictionary` is indexed by keys. Keys for `Dictionary` can use many different data types, not just integers. It is best to think of a dictionary as an unordered set of key-value-pairs, with the requirement that the keys are unique (within one dictionary). A pair of curly brackets creates an empty `Dictionary`: `{` and `}`. In them you can add as many key-value-pairs as you like, each written in the notation `key: value`, and separated by commas `,`.\n",
    "\n",
    "`Dictionary` is exactly what you need if you want to implement something similar to a telephone book. None of the data structures that you have seen before are suitable for a telephone book.\n",
    "\n",
    "Let us create our first `Dictionary`. To verify the type of any object, we use the function `type()`."
   ]
  },
  {
   "cell_type": "code",
   "execution_count": null,
   "id": "31f039bb",
   "metadata": {
    "collapsed": false,
    "jupyter": {
     "outputs_hidden": false
    }
   },
   "outputs": [],
   "source": [
    "# define dictionary\n",
    "happy = {\"no\": [0, 1, 2, 3, 4], \"yes\": [5, 6, 7, 8, 9, 10]}\n",
    "\n",
    "# check type of dictionary\n",
    "print(type(happy))"
   ]
  },
  {
   "cell_type": "code",
   "execution_count": null,
   "id": "a4b794f2",
   "metadata": {
    "collapsed": false,
    "jupyter": {
     "outputs_hidden": false
    }
   },
   "outputs": [],
   "source": []
  },
  {
   "cell_type": "markdown",
   "id": "789e2be0",
   "metadata": {},
   "source": [
    "### Set\n",
    "\n",
    "A `Set` is an unordered and mutable collection of distinct (unique) elements. It is useful to create something like a `List` that can only hold unique values. This is particularly helpful when going through a huge dataset. `Set` objects also support mathematical operations like union `|`, intersection `&`, difference `-`, and symmetric difference `^`. Within a pair of curly brackets `{` and `}`, you can add as many elements to the `Set` as you like, each separated by a comma `,`.\n",
    "\n",
    "Note, however, that if you want to create an empty `Set`, you do not use the curly brackets because they will create a dictionary, but you rather call the function `set()` explicitly.\n",
    "\n",
    "In comparison to a `List` or `Tuple`, a `Set` cannot be accessed with indexing or slicing because it is an unordered data type. However, a `Set` can be edited, but this only works with methods which we will introduce later.\n",
    "\n",
    "Let us create a first set anyway and show that the elements are deduplicated automatically."
   ]
  },
  {
   "cell_type": "code",
   "execution_count": null,
   "id": "96dd736b",
   "metadata": {
    "collapsed": false,
    "jupyter": {
     "outputs_hidden": false
    }
   },
   "outputs": [],
   "source": [
    "# define set\n",
    "points = set([0, 1, 2, 3, 4, 5, 6, 7, 8, 9, 10, 10, 10])\n",
    "\n",
    "# check type of set\n",
    "print(type(points))"
   ]
  },
  {
   "cell_type": "code",
   "execution_count": null,
   "id": "b9073802",
   "metadata": {
    "collapsed": false,
    "jupyter": {
     "outputs_hidden": false
    }
   },
   "outputs": [],
   "source": []
  },
  {
   "cell_type": "markdown",
   "id": "08130e0a",
   "metadata": {},
   "source": [
    "## 1.7 Conditional Statements\n",
    "\n",
    "So far you know the basics of individual instructions and that a program is just a series of instructions. But the real strength of programming is not just executing one instruction after another. Based on how the expressions evaluate, the program can decide to skip instructions, repeat them, or choose one of several instructions to run. In fact, you almost never want your programs to start from the first line of code and simply execute every line, straight to the end. Control flow statements can decide which Python instructions to execute under which conditions.\n",
    "\n",
    "For this, we have to understand the different types of operators in the first place.\n",
    "\n",
    "### Comparison Operator\n",
    "\n",
    "Comparison operators are used to compare two values and evaluate down to a single `Boolean`. They evaluate either as `True` or `False`. In Python, you can can use the following comparison operators.\n",
    "\n",
    "| Operator | Description  |\n",
    "| -------- | ------- |\n",
    "| `==` | equal |\n",
    "| `!=` | not equal |\n",
    "| `>` | greater than |\n",
    "| `<` | less than |\n",
    "| `>=` | greater than or equal to |\n",
    "| `<=` | less than or equal to |\n",
    "\n",
    "Let us try comparison operators out with a little example."
   ]
  },
  {
   "cell_type": "code",
   "execution_count": null,
   "id": "f9ae3037",
   "metadata": {
    "collapsed": false,
    "jupyter": {
     "outputs_hidden": false
    }
   },
   "outputs": [],
   "source": [
    "# define age\n",
    "age = 17\n",
    "\n",
    "# print first comparison\n",
    "print(\"I am allowed to get beer:\", age >= 16)\n",
    "\n",
    "# print second comparison\n",
    "print(\"I am allowed to get spirits:\", age >= 18)"
   ]
  },
  {
   "cell_type": "code",
   "execution_count": null,
   "id": "3b46b909",
   "metadata": {
    "collapsed": false,
    "jupyter": {
     "outputs_hidden": false
    }
   },
   "outputs": [],
   "source": []
  },
  {
   "cell_type": "markdown",
   "id": "81c82fc3",
   "metadata": {},
   "source": [
    "### Logical Operator\n",
    "\n",
    "Logical operators are used to compare multiple `Boolean`. Like comparison operators, they evaluate these expressions down to a `Boolean`. Since the comparison operators evaluate to `Boolean`, you can use them in expressions with the logical operators. Note that these operators are often grouped in smaller statements with round brackets `(` `)`. In Python, you can use the following logical oporators.\n",
    "\n",
    "| Operator | Description  |\n",
    "| -------- | ------- |\n",
    "| `and` | returns `True` if both statements are `True` |\n",
    "| `or` | returns `True` if at least one of the statements is `True` |\n",
    "| `not` | returns `True` if result is `False` and vice versa |\n",
    "\n",
    "Let us put logical operators in our previous example."
   ]
  },
  {
   "cell_type": "code",
   "execution_count": null,
   "id": "9229e479",
   "metadata": {
    "collapsed": false,
    "jupyter": {
     "outputs_hidden": false
    }
   },
   "outputs": [],
   "source": [
    "# define age\n",
    "age = 17\n",
    "\n",
    "# print first comparison\n",
    "print(\"I am allowed to get beer and spirits:\", age >= 16 and age >= 18)\n",
    "\n",
    "# print second comparison\n",
    "print(\"I am not allowed to get beer and spirits:\", not (age >= 16 and age >= 18))\n",
    "\n",
    "# print third comparison\n",
    "print(\"I am allowed to get either beer or spirits:\", age >= 16 or age >= 18)"
   ]
  },
  {
   "cell_type": "code",
   "execution_count": null,
   "id": "a86e0aed",
   "metadata": {
    "collapsed": false,
    "jupyter": {
     "outputs_hidden": false
    }
   },
   "outputs": [],
   "source": []
  },
  {
   "cell_type": "markdown",
   "id": "043ffe3b",
   "metadata": {},
   "source": [
    "## 1.8 Control Flow Statements\n",
    "\n",
    "With the help of conditional statements, we can decide which parts of our code are skipped, repeated or select which part of code is executed. To do this, we write control flow statements. We will now discuss each of these statements one after the other.\n",
    "\n",
    "### If Statement\n",
    "\n",
    "The most common type of control flow statements is the `if` statement. An `if` statement's clause will execute only if the statement's condition is `True`. The clause is skipped if the condition is `False`. The `else` clause is executed only when the `if` statement's condition is `False`. While only one of the `if` or `else` clauses will execute, you may have a case where you want one of many possible clauses to execute. The `elif` statement is optional and is an else if statement that always follows an `if` or another `elif` statement. The `if` and `elif` statements' condition are gone through from top to bottom, and once a condition is `True`, the respective clause will be executed and the remaining statements will be skipped.\n",
    "\n",
    "The syntax of an `if` statement looks as follows.\n",
    "\n",
    "```python\n",
    "if condition1:\n",
    "    clause(s)\n",
    "elif condition2:\n",
    "    clause(s)\n",
    "elif condition3:\n",
    "    clause(s)\n",
    "...\n",
    "else:\n",
    "    clause(s)\n",
    "```\n",
    "\n",
    "Let us make an example where we check our statements before we print the results."
   ]
  },
  {
   "cell_type": "code",
   "execution_count": null,
   "id": "191f7bca",
   "metadata": {
    "collapsed": false,
    "jupyter": {
     "outputs_hidden": false
    }
   },
   "outputs": [],
   "source": [
    "# define age\n",
    "age = 17\n",
    "\n",
    "# check conditions and print results\n",
    "if age < 16:\n",
    "    print(\"I am allowed to get water!\")\n",
    "elif age < 18:\n",
    "    print(\"I am allowed to get water and beer!\")\n",
    "else:\n",
    "    print(\"I am allowed to get water, beer and spirits!\")"
   ]
  },
  {
   "cell_type": "code",
   "execution_count": null,
   "id": "6033d26c",
   "metadata": {
    "collapsed": false,
    "jupyter": {
     "outputs_hidden": false
    }
   },
   "outputs": [],
   "source": []
  },
  {
   "cell_type": "markdown",
   "id": "3b4405e6",
   "metadata": {},
   "source": [
    "### For Loop\n",
    "\n",
    "The `for` statement supports repeated execution of a block of code. We also speak of a `for` loop. The number of repetitions is specified by the for statement, more precisely by an iterable object, e.g. `List`.  We will also discuss shortly what a `break` and `continue` statement is.\n",
    "\n",
    "The syntax of a `for` loop looks as follows.\n",
    "\n",
    "```python\n",
    "for target in iterable:\n",
    "    clause(s)\n",
    "```\n",
    "\n",
    "Let us make an example where we loop over many ages and print their results."
   ]
  },
  {
   "cell_type": "code",
   "execution_count": null,
   "id": "c19f146f",
   "metadata": {
    "collapsed": false,
    "jupyter": {
     "outputs_hidden": false
    }
   },
   "outputs": [],
   "source": [
    "# define ages\n",
    "ages = range(0, 19)\n",
    "\n",
    "# print ages\n",
    "print(list(ages))\n",
    "\n",
    "# for loop over ages\n",
    "for age in ages:\n",
    "    # check conditions and print results\n",
    "    if age < 16:\n",
    "        print(\"I am {} years old and allowed to get water!\".format(age))\n",
    "    elif age < 18:\n",
    "        print(\"I am {} years old and allowed to get water and beer!\".format(age))\n",
    "    else:\n",
    "        print(\"I am {} years old and allowed to get water, beer and spirits!\".format(age))"
   ]
  },
  {
   "cell_type": "code",
   "execution_count": null,
   "id": "48ca9698",
   "metadata": {
    "collapsed": false,
    "jupyter": {
     "outputs_hidden": false
    }
   },
   "outputs": [],
   "source": []
  },
  {
   "cell_type": "markdown",
   "id": "5b3324d1",
   "metadata": {},
   "source": [
    "### Break Statement\n",
    "\n",
    "If inside a `for` loop the execution reaches a `break` statement, it immediately exits the `for` loop's clause. The `break` statement is only allowed inside a loop body. It should also be noted that when you have multiple nested `for` loops, only the inner-most nested loop will be exited. A common reason to use a `break` statement is when a certain point has already been reached before the `for` loop finished.\n",
    "\n",
    "Let us make an example where we exit the previous loop."
   ]
  },
  {
   "cell_type": "code",
   "execution_count": null,
   "id": "5e79e1e5",
   "metadata": {
    "collapsed": false,
    "jupyter": {
     "outputs_hidden": false
    }
   },
   "outputs": [],
   "source": [
    "# define ages\n",
    "ages = range(0, 19)\n",
    "\n",
    "# print ages\n",
    "print(list(ages))\n",
    "\n",
    "# for loop over ages\n",
    "for age in ages:\n",
    "    # check conditions and print results\n",
    "    if age < 16:\n",
    "        print(\"I am {} years old and allowed to get water!\".format(age))\n",
    "    elif age < 18:\n",
    "        print(\"I am {} years old and allowed to get water and beer!\".format(age))\n",
    "        break\n",
    "    else:\n",
    "        print(\"I am {} years old and allowed to get water, beer and spirits!\".format(age))"
   ]
  },
  {
   "cell_type": "code",
   "execution_count": null,
   "id": "0528487e",
   "metadata": {
    "collapsed": false,
    "jupyter": {
     "outputs_hidden": false
    }
   },
   "outputs": [],
   "source": []
  },
  {
   "cell_type": "markdown",
   "id": "927ad959",
   "metadata": {},
   "source": [
    "### Continue Statement\n",
    "\n",
    "If inside a `for` loop the execution reaches a `continue` statement, it immediately exits the current iteration of the loop body and it continues with the next iterations of the loop. The `continue` statement is only allowed inside a loop body. It should also be noted that when you have multiple nested `for` loops, only the inner-most nested loop will be continued. A common reason to use a `continue` statement is when a certain point has been reached when the result already cannot be reached inside this interation that the rest of it can be skipped.\n",
    "\n",
    "Let us make an example where we skip some iterations."
   ]
  },
  {
   "cell_type": "code",
   "execution_count": null,
   "id": "90d2bd4d",
   "metadata": {
    "collapsed": false,
    "jupyter": {
     "outputs_hidden": false
    }
   },
   "outputs": [],
   "source": [
    "# define ages\n",
    "ages = range(0, 19)\n",
    "\n",
    "# print ages\n",
    "print(list(ages))\n",
    "\n",
    "# for loop over ages\n",
    "for age in ages:\n",
    "    # check conditions and print results\n",
    "    if age < 16:\n",
    "        continue\n",
    "        print(\"I am {} years old and allowed to get water!\".format(age))\n",
    "    elif age < 18:\n",
    "        print(\"I am {} years old and allowed to get water and beer!\".format(age))\n",
    "    else:\n",
    "        print(\"I am {} years old and allowed to get water, beer and spirits!\".format(age))"
   ]
  },
  {
   "cell_type": "code",
   "execution_count": null,
   "id": "040eec32",
   "metadata": {
    "collapsed": false,
    "jupyter": {
     "outputs_hidden": false
    }
   },
   "outputs": [],
   "source": []
  },
  {
   "cell_type": "markdown",
   "id": "c744c8a5",
   "metadata": {},
   "source": [
    "### While Loop\n",
    "\n",
    "In the `while` statement, the condition is always checked at the start of each iteration. That is, each time the loop is executed. We also speak of a `while` loop. If the condition is `True`, then the clause is executed, and afterward, the condition is checked again. The first time the condition is found to be `False`, the `while` clause is skipped. If the execution reaches a `break` statement, it immediately exits the `while` loop's clause. When the program execution reaches a `continue` statement, the program execution immediately jumps back to the start of the loop and reevaluates the loop's condition. This is also what happens when the execution reaches the end of the loop.\n",
    "\n",
    "The syntax of a `while` loop looks as follows.\n",
    "\n",
    "```python\n",
    "while condition:\n",
    "    clause(s)\n",
    "```\n",
    "\n",
    "Let us make an example where we loop over many ages and print their results."
   ]
  },
  {
   "cell_type": "code",
   "execution_count": null,
   "id": "c1c648ef",
   "metadata": {
    "collapsed": false,
    "jupyter": {
     "outputs_hidden": false
    }
   },
   "outputs": [],
   "source": [
    "# define ages\n",
    "age = 0\n",
    "\n",
    "# for loop over ages\n",
    "while age < 19:\n",
    "    # check conditions and print results\n",
    "    if age < 16:\n",
    "        print(\"I am {} years old and allowed to get water!\".format(age))\n",
    "    elif age < 18:\n",
    "        print(\"I am {} years old and allowed to get water and beer!\".format(age))\n",
    "    else:\n",
    "        print(\"I am {} years old and allowed to get water, beer and spirits!\".format(age))\n",
    "    # increment age\n",
    "    age += 1"
   ]
  },
  {
   "cell_type": "markdown",
   "id": "236a40da-2399-4e94-9805-492ed64bb541",
   "metadata": {},
   "source": [
    "<div class=\"alert alert-block alert-info\">\n",
    "    <b>Exercise</b>: Suppose Hans goes out for a pub crawl tonight. He is 18 years old, drinks only Tequilas and has 35 Euros in his pocket. If he joins group 1 first, then he goes into the Klimperkasten and wants to drink at least 5 tequilas there before he moves on to the Steigenberger. But if he joins group 2 first, then he goes into the Steigenberger and wants to drink at least 5 tequilas there before he moves on to the Klimperkasten. A Tequila costs 4 € in the Klimperkasten and 10€ in the Steigenberger. Define budget, prices and the first group as variables. Prompt where Hans goes, what he drinks and how much money he has left. How does Hans' evening go?\n",
    "</div>"
   ]
  },
  {
   "cell_type": "code",
   "execution_count": null,
   "id": "0174638b",
   "metadata": {
    "collapsed": false,
    "jupyter": {
     "outputs_hidden": false
    }
   },
   "outputs": [],
   "source": []
  },
  {
   "cell_type": "markdown",
   "id": "5a058748",
   "metadata": {},
   "source": [
    "## 1.9 Functions\n",
    "\n",
    "User-defined functions have the goal to recycle code blocks, such that the same code block can be executed several times. With functions, the code can be made more understandable and modular. In addition, functions offer a certain flexibility through their input parameters, so that the code can be used for the same purpose in the broadest sense.\n",
    "\n",
    "To declare your own function in Python, you must first write the keyword `def`, then the name of the function itself, followed by the parameteres in round brackets `(` `)`, and end the declaration with a colon `:`. This is followed by the code to be executed in the function which is indented. At the end of the code there can be a `return` statement, which returns one or more values, so that they can be used outside the function.\n",
    "\n",
    "Let us look at the syntax of a function.\n",
    "\n",
    "```python\n",
    "def function_name(argument_1, argument_2):\n",
    "    {this is the code in the function}\n",
    "    {more code doing something with the arguments}\n",
    "    {more code}\n",
    "    return {value to return to the main program}\n",
    "```\n",
    "\n",
    "Suppose we have a list of student we want to welcome personally. We could write the greeting for each student individually, or better automate it with a function."
   ]
  },
  {
   "cell_type": "code",
   "execution_count": null,
   "id": "11cda7ab",
   "metadata": {
    "collapsed": false,
    "jupyter": {
     "outputs_hidden": false
    }
   },
   "outputs": [],
   "source": [
    "# define function\n",
    "def hello(name):\n",
    "    print(\"Hello {}!\".format(name))\n",
    "\n",
    "# define list of students\n",
    "students = [\"Hans\", \"Adam\", \"Christine\"]\n",
    "\n",
    "# loop over students\n",
    "for student in students:\n",
    "    hello(student)"
   ]
  },
  {
   "cell_type": "code",
   "execution_count": null,
   "id": "6e53b26f",
   "metadata": {
    "collapsed": false,
    "jupyter": {
     "outputs_hidden": false
    }
   },
   "outputs": [],
   "source": []
  },
  {
   "cell_type": "markdown",
   "id": "94e0d77f",
   "metadata": {},
   "source": [
    "In the function above, the function has a required parameter. If we would call the function without a name, the function would abort. However, if we set a default parameter, then we take the default in case no other parameter is passed.\n",
    "\n",
    "Let us set a default parameter."
   ]
  },
  {
   "cell_type": "code",
   "execution_count": null,
   "id": "09ec7d9d",
   "metadata": {
    "collapsed": false,
    "jupyter": {
     "outputs_hidden": false
    }
   },
   "outputs": [],
   "source": [
    "# define function\n",
    "def hello(name = \"Lisa\"):\n",
    "    print(\"Hello {}!\".format(name))\n",
    "\n",
    "# call function without name\n",
    "hello()\n",
    "\n",
    "# call function with name\n",
    "hello(\"Eva\")"
   ]
  },
  {
   "cell_type": "code",
   "execution_count": null,
   "id": "1e800c86",
   "metadata": {
    "collapsed": false,
    "jupyter": {
     "outputs_hidden": false
    }
   },
   "outputs": [],
   "source": []
  },
  {
   "cell_type": "markdown",
   "id": "6b97e116",
   "metadata": {},
   "source": [
    "## 1.10 Classes and Objects\n",
    "\n",
    "Object-oriented programming, or short OOP, is a programming paradigm which provides a means of structuring programs such that properties and behaviors are bundled into individual objects. Another common programming paradigm is procedural programming which structures a program like a recipe in that it provides a set of steps, in the form of functions and code blocks, which flow sequentially in order to complete a task. Objects are at the center of the object-oriented programming paradigm, not only representing the data, as in procedural programming, but in the overall structure of the program as well. An object can be anything that has some characteristics and functions. Focusing first on the data, each thing or object is an instance of some class. Also classes are used to create new user-defined data structures that contain arbitrary information about something.\n",
    "\n",
    "Object-oriented programming offers the following advantages:\n",
    "\n",
    "- If code is written in classes, it can be shared by multiple instances and reused multiple times.\n",
    "- The modular structure, in which classes are strictly separated, ensures clear and maintable code.\n",
    "- Through the logical separation of each object, possible errors can be traced back to the actual problem more easily, especially with highly nested code.\n",
    "- When a user writes his code, then it is more clear which object and which data he is working with.\n",
    "\n",
    "Despite these advantages, object-oriented programming also has a few drawbacks:\n",
    "\n",
    "- With the amount of code and the number of classes, also the overall complexity of the program increases.\n",
    "- If real-world objects and their relations are unclear, then it can be very difficult to find an object-oriented structure.\n",
    "\n",
    "In a few seconds you will see some examples of how object-oriented programming may look like.\n",
    "\n",
    "\n",
    "### Classes\n",
    "\n",
    "A class is a blueprint for an object. A class contains all the attributes and methods related to the real-world object. With the keyword `class` you can create such a class, followed by the class name and a colon `:`. You can initialize an object of a class exactly like you use a function. With this object you can work with its attributes and methods over attribute references `object.attribute` as it is common in Python.\n",
    "\n",
    "As you can see you can initialize an instance like a parameterless function and assign it to a variable. Then you can work with the instance using the corresponding variable. In this first example we will create an empty object, without specialising it further during its initialization. But often we want to pass certain attributes to new objects. To do this, you can write an initialization method `__init__`. When you create your object, you can pass the parameters for that specific object into the class. This syntax is basically the same as with a function again.\n",
    "\n",
    "In the initialization method, `self` refers to the newly created object. In any other method, it refers to the instance whose method was called. However it is nothing more than a convention: the name `self` has absolutely no special meaning to Python.\n",
    "\n",
    "Let us create a class for estimating sentiments with one attribute and four methods."
   ]
  },
  {
   "cell_type": "code",
   "execution_count": null,
   "id": "41f7f0a2",
   "metadata": {
    "collapsed": false,
    "jupyter": {
     "outputs_hidden": false
    }
   },
   "outputs": [],
   "source": [
    "class Sentiment:\n",
    "\n",
    "    values = {\"sad\", \"neutral\", \"happy\"}\n",
    "\n",
    "    def __init__(self, value=\"neutral\"):\n",
    "        if value not in Sentiment.values:\n",
    "            raise ValueError(\"Only the following values are supported: %s\" % Sentiment.values)\n",
    "        self.value = value\n",
    "\n",
    "    def __repr__(self):\n",
    "        return self.value\n",
    "\n",
    "    def get(self):\n",
    "        return self.value\n",
    "\n",
    "    @staticmethod\n",
    "    def guess(text):\n",
    "        if \"happy\" in text or \"excited\" in text:\n",
    "            return Sentiment(\"happy\")\n",
    "        if \"sad\" in text or \"angry\" in text:\n",
    "            return Sentiment(\"sad\")\n",
    "        return Sentiment(\"neutral\")\n",
    "\n",
    "im_feeling = Sentiment.guess(\"I'm really happy!\")\n",
    "\n",
    "print(im_feeling)"
   ]
  },
  {
   "cell_type": "code",
   "execution_count": null,
   "id": "b3e58079",
   "metadata": {
    "collapsed": false,
    "jupyter": {
     "outputs_hidden": false
    }
   },
   "outputs": [],
   "source": []
  },
  {
   "cell_type": "markdown",
   "id": "7d5343b3",
   "metadata": {},
   "source": [
    "## 1.11 Modules\n",
    "\n",
    "We already looked at some built-in functions. But there are many more functions available in Python. All you have to do is import modules in which more functions, classes and variables are included. Each of these modules provides functionalities in a certain category. These built-in modules can be imported directly without the need to install them.\n",
    "\n",
    "The syntax for importing a module looks as follows. This statement is executed at the beginning of code so that all its functionalities are available in the actual code later.\n",
    "\n",
    "```python\n",
    "import module\n",
    "```\n",
    "\n",
    "We will discuss a few of these modules and have a quick look at some use cases soon. Here is a first overview of these modules:\n",
    "\n",
    "| Module | Description |\n",
    "| -------- | ------- |\n",
    "| `os` | Miscellaneous operating system interfaces |\n",
    "| `random` | Generate pseudo-random numbers |\n",
    "| `datetime` | Basic date and time types |\n",
    "| `re` | Regular expression operations |\n",
    "| `csv` | Read and write tabular data in CSV format |\n",
    "\n",
    "\n",
    "### Os\n",
    "\n",
    "The module `os` allows for many operating system tasks with dozens of functions. For example, files and directories can be localized, deleted or created.\n",
    "\n",
    "Let us first import the module."
   ]
  },
  {
   "cell_type": "code",
   "execution_count": null,
   "id": "3c511c97",
   "metadata": {
    "collapsed": false,
    "jupyter": {
     "outputs_hidden": false
    }
   },
   "outputs": [],
   "source": [
    "import os"
   ]
  },
  {
   "cell_type": "markdown",
   "id": "2898c8bc",
   "metadata": {},
   "source": [
    "To find out where Python works on your storage, and what its working directory is, you can use the function `os.getcwd()`.\n",
    "\n",
    "Let us find out the path of our current working directory."
   ]
  },
  {
   "cell_type": "code",
   "execution_count": null,
   "id": "f9ae608d",
   "metadata": {
    "collapsed": false,
    "jupyter": {
     "outputs_hidden": false
    }
   },
   "outputs": [],
   "source": [
    "# define working directory\n",
    "work_dir  = os.getcwd()\n",
    "\n",
    "# print working directory\n",
    "print(work_dir)"
   ]
  },
  {
   "cell_type": "markdown",
   "id": "41c781a0",
   "metadata": {},
   "source": [
    "Next, we may be interested which files are in our working directory. This job can be done with the function `os.listdir()`.\n",
    "\n",
    "Let us see which files are in our working directory."
   ]
  },
  {
   "cell_type": "code",
   "execution_count": null,
   "id": "040ba5e2",
   "metadata": {
    "collapsed": false,
    "jupyter": {
     "outputs_hidden": false
    }
   },
   "outputs": [],
   "source": [
    "# define working directory\n",
    "work_dir  = os.getcwd()\n",
    "\n",
    "# define files in working directory\n",
    "work_files = os.listdir(work_dir)\n",
    "\n",
    "# print files in working directory\n",
    "print(work_files)"
   ]
  },
  {
   "cell_type": "code",
   "execution_count": null,
   "id": "df9d5eab",
   "metadata": {
    "collapsed": false,
    "jupyter": {
     "outputs_hidden": false
    }
   },
   "outputs": [],
   "source": []
  },
  {
   "cell_type": "markdown",
   "id": "08590996",
   "metadata": {},
   "source": [
    "### Random\n",
    "\n",
    "The module `random` implements a generator for pseudo-random numbers. Those can be used for instance to return a random number between 0 and 1, return random integer between certain range, make a random pick from a list and a random shuffle of a list.\n",
    "\n",
    "Let us first import the module."
   ]
  },
  {
   "cell_type": "code",
   "execution_count": null,
   "id": "3523ac0d",
   "metadata": {
    "collapsed": false,
    "jupyter": {
     "outputs_hidden": false
    }
   },
   "outputs": [],
   "source": [
    "import random"
   ]
  },
  {
   "cell_type": "markdown",
   "id": "ecbf29ca",
   "metadata": {},
   "source": [
    "As noted above, these numbers are only pseudo-random, because they are generated by default with the help of the system time. That means you will very very probably not get the same random number when you generate multiple numbers in a row. To make your code deterministic, you need to use a function `random.seed()` and give it an `Integer` or `String` as input. This seed is used to generate the next random number. All other drawn numbers are like a chain and build on the previous number. With the function `random.random()`, you can draw numbers in the interval of `[0,1)`.\n",
    "\n",
    "Let us first consider the stochastic and then the deterministic behavior of random numbers without and with a seed."
   ]
  },
  {
   "cell_type": "code",
   "execution_count": null,
   "id": "eed3f956",
   "metadata": {
    "collapsed": false,
    "jupyter": {
     "outputs_hidden": false
    }
   },
   "outputs": [],
   "source": [
    "# generate random number\n",
    "random_num = random.random()\n",
    "\n",
    "# print random number\n",
    "print(random_num)"
   ]
  },
  {
   "cell_type": "code",
   "execution_count": null,
   "id": "b4428fa6",
   "metadata": {
    "collapsed": false,
    "jupyter": {
     "outputs_hidden": false
    }
   },
   "outputs": [],
   "source": [
    "# seed\n",
    "random.seed(2019)\n",
    "\n",
    "# generate random number\n",
    "random_num = random.random()\n",
    "\n",
    "# print random number\n",
    "print(random_num)"
   ]
  },
  {
   "cell_type": "code",
   "execution_count": null,
   "id": "a9c7e382",
   "metadata": {
    "collapsed": false,
    "jupyter": {
     "outputs_hidden": false
    }
   },
   "outputs": [],
   "source": []
  },
  {
   "cell_type": "markdown",
   "id": "d1ac0771",
   "metadata": {},
   "source": [
    "### Custom Modules\n",
    "\n",
    "Object-oriented programming is particularly used in large packages. But it is worthwhile to write even for smaller projects the code in packages. The structure of packages allows the code and its classes to be structured in folders and files, which can relate to one another. At the end you can use the code very simple, as with all large modules and packages, you simply import the package and its code is available.\n",
    "\n",
    "We will demonstate with a small demo package how you can easily package your previously written classes. The best way to do this is to start with how you can structure the folders and files. The following is an example with a possible hierarchical filesystem:\n",
    "\n",
    "```text\n",
    ".\n",
    "└── scripts\n",
    "    └── sentiment.py\n",
    "```\n",
    "\n",
    "Let's copy the definition of the class \"Sentiment\" into a file [sentiment.py](./scripts/sentiment.py) in the folder `scripts` and load the class."
   ]
  },
  {
   "cell_type": "code",
   "execution_count": null,
   "id": "1f180919",
   "metadata": {
    "collapsed": false,
    "jupyter": {
     "outputs_hidden": false
    }
   },
   "outputs": [],
   "source": [
    "from scripts.sentiment import Sentiment\n",
    "\n",
    "Sentiment()"
   ]
  },
  {
   "cell_type": "code",
   "execution_count": null,
   "id": "c4186de8",
   "metadata": {
    "collapsed": false,
    "jupyter": {
     "outputs_hidden": false
    }
   },
   "outputs": [],
   "source": []
  },
  {
   "cell_type": "markdown",
   "id": "e6799675",
   "metadata": {},
   "source": [
    "### External Modules\n",
    "\n",
    "One of the major advantages of Python is its variety of external packages. In addition to built-in modukes, like they are not enough already, there is an enormous amount of external packages. These external packages have to be installed before they can actually be imported and used. After they are installed they can be used like built-in modules. The following list shows which packages we will use today and in the rest of the week.\n",
    "\n",
    "| Package | Description |\n",
    "| -------- | ------- |\n",
    "| `numpy` | scientific computing with arrays |\n",
    "| `sklearn` | machine learning |\n",
    "| `pandas` | data structures and data analysis |\n",
    "| `matplotlib` | figures |\n",
    "| `beautifulsoup4` | parsing of web pages |\n",
    "\n",
    "A good and common practice is to list all modules required by a project in a file `requirements.txt`. The entire list of requirements can then be installed by `pip install -r requirements.txt`. Also this project ships with a [requirements.txt](./requirements.txt)."
   ]
  },
  {
   "cell_type": "markdown",
   "id": "cb856caf",
   "metadata": {},
   "source": [
    "<div class=\"alert alert-block alert-info\">\n",
    "    <b>Exercise</b>: Install the entire list of requirements in your Python environment, e.g. via the Anaconda Navigator.\n",
    "</div>"
   ]
  },
  {
   "cell_type": "code",
   "execution_count": null,
   "id": "a5bbe06e",
   "metadata": {
    "collapsed": false,
    "jupyter": {
     "outputs_hidden": false
    }
   },
   "outputs": [],
   "source": []
  },
  {
   "cell_type": "markdown",
   "id": "b28a0b66",
   "metadata": {},
   "source": [
    "## 1.12 Style Guide\n",
    "\n",
    "Maybe you have already noticed that code can become quickly complicated, confusing and unclear. Especially if you look at your code after a long time or show it to somebody else, it will quickly become a serious problem. For that reason, there are various style guides which use quite simple rules to ensure your code is understandable, concise and clear.\n",
    "\n",
    "They deal with following questions for example:\n",
    "\n",
    "- How should I make imports?\n",
    "- How should I use line breaks?\n",
    "- How should I indent code?\n",
    "- How should I comment code?\n",
    "- How should I name variables?\n",
    "- How should I handle exceptions?\n",
    "\n",
    "We recommend you to have a look into the [Google Python Style Guide](https://github.com/google/styleguide/blob/gh-pages/pyguide.md)."
   ]
  },
  {
   "cell_type": "code",
   "execution_count": null,
   "id": "0eb6b865",
   "metadata": {
    "collapsed": false,
    "jupyter": {
     "outputs_hidden": false
    }
   },
   "outputs": [],
   "source": []
  }
 ],
 "metadata": {
  "celltoolbar": "Slideshow",
  "kernelspec": {
   "display_name": "Python 3 (ipykernel)",
   "language": "python",
   "name": "python3"
  },
  "language_info": {
   "codemirror_mode": {
    "name": "ipython",
    "version": 3
   },
   "file_extension": ".py",
   "mimetype": "text/x-python",
   "name": "python",
   "nbconvert_exporter": "python",
   "pygments_lexer": "ipython3",
   "version": "3.11.5"
  }
 },
 "nbformat": 4,
 "nbformat_minor": 5
}
