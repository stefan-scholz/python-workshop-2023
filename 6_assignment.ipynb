{
 "cells": [
  {
   "cell_type": "markdown",
   "metadata": {},
   "source": [
    "# Python Workshop\n",
    "# 6. Assignment\n",
    "\n",
    "Stefan Scholz\n",
    "\n",
    "In this assignment you will walk through a **small data project** on data you are **personally interested** in. You will need to build your own data pipeline, **collect**, **analyze** and **visualize** the data. In this way, you will wrap up everything what you have learned in this course. You can score up to 30 points in this assignment. Please submit your solutions inside this notebook via email. The deadline for submission is on Friday, November 10, 16:00."
   ]
  },
  {
   "cell_type": "markdown",
   "metadata": {},
   "source": [
    "## 6.1 Data Collection"
   ]
  },
  {
   "cell_type": "markdown",
   "metadata": {},
   "source": [
    "There is a lot of interesting data in the internet. We want to give you the opportunity to explore data which is in your own personal interest. The only requirement on the data is that it has to be collected on your own. So, if your data is not already readily available, but needs to be collected, then it probably meets the requirements. If you do not have an idea on top of your mind, you can find an inspiration in the list of [APIs](https://github.com/public-apis/public-apis) and [websites](https://gist.github.com/bejaneps/ba8d8eed85b0c289a05c750b3d825f61)."
   ]
  },
  {
   "cell_type": "markdown",
   "metadata": {},
   "source": [
    "<div class=\"alert alert-block alert-info\">\n",
    "    <b>Exercise (10 Points)</b>: Pick the data on which you want to build your project upon. Describe what this data is, for what reason it is interesting, and how you collect it. Implement the collection of your data.\n",
    "</div>"
   ]
  },
  {
   "cell_type": "code",
   "execution_count": null,
   "metadata": {},
   "outputs": [],
   "source": []
  },
  {
   "cell_type": "code",
   "execution_count": null,
   "metadata": {},
   "outputs": [],
   "source": []
  },
  {
   "cell_type": "markdown",
   "metadata": {},
   "source": [
    "## 6.2 Data Analysis"
   ]
  },
  {
   "cell_type": "markdown",
   "metadata": {},
   "source": [
    "<div class=\"alert alert-block alert-info\">\n",
    "    <b>Exercise (10 Points)</b>: Present some key features and run a first data analysis with your data.\n",
    "</div>"
   ]
  },
  {
   "cell_type": "code",
   "execution_count": null,
   "metadata": {},
   "outputs": [],
   "source": []
  },
  {
   "cell_type": "code",
   "execution_count": null,
   "metadata": {
    "ExecuteTime": {
     "end_time": "2023-11-02T20:45:23.284964Z",
     "start_time": "2023-11-02T20:45:23.281261Z"
    }
   },
   "outputs": [],
   "source": []
  },
  {
   "cell_type": "markdown",
   "metadata": {},
   "source": [
    "## 6.3 Data Visualization"
   ]
  },
  {
   "cell_type": "markdown",
   "metadata": {},
   "source": [
    "<div class=\"alert alert-block alert-info\">\n",
    "    <b>Exercise (10 Points)</b>: Pick a feature of your analysis that you want to stress with a visualization. Create the respective graphs. Label the graphs where it seems necessary for you.\n",
    "</div>"
   ]
  },
  {
   "cell_type": "code",
   "execution_count": null,
   "metadata": {},
   "outputs": [],
   "source": []
  },
  {
   "cell_type": "code",
   "execution_count": null,
   "metadata": {},
   "outputs": [],
   "source": []
  }
 ],
 "metadata": {
  "kernelspec": {
   "display_name": "Python 3 (ipykernel)",
   "language": "python",
   "name": "python3"
  },
  "language_info": {
   "codemirror_mode": {
    "name": "ipython",
    "version": 3
   },
   "file_extension": ".py",
   "mimetype": "text/x-python",
   "name": "python",
   "nbconvert_exporter": "python",
   "pygments_lexer": "ipython3",
   "version": "3.11.5"
  }
 },
 "nbformat": 4,
 "nbformat_minor": 4
}
